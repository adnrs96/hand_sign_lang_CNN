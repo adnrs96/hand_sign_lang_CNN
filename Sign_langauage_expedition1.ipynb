{
 "cells": [
  {
   "cell_type": "code",
   "execution_count": 1,
   "metadata": {},
   "outputs": [
    {
     "name": "stderr",
     "output_type": "stream",
     "text": [
      "WARNING (theano.sandbox.cuda): The cuda backend is deprecated and will be removed in the next release (v0.10).  Please switch to the gpuarray backend. You can get more information about how to switch at this URL:\n",
      " https://github.com/Theano/Theano/wiki/Converting-to-the-new-gpu-back-end%28gpuarray%29\n",
      "\n",
      "Using gpu device 0: GeForce GTX 850M (CNMeM is disabled, cuDNN 5110)\n",
      "WARNING (theano.sandbox.cuda): The cuda backend is deprecated and will be removed in the next release (v0.10).  Please switch to the gpuarray backend. You can get more information about how to switch at this URL:\n",
      " https://github.com/Theano/Theano/wiki/Converting-to-the-new-gpu-back-end%28gpuarray%29\n",
      "\n"
     ]
    }
   ],
   "source": [
    "from theano.sandbox import cuda\n",
    "cuda.use('gpu0')"
   ]
  },
  {
   "cell_type": "code",
   "execution_count": 2,
   "metadata": {
    "collapsed": true
   },
   "outputs": [],
   "source": [
    "path = \"data/sign_mix_expedition3/\""
   ]
  },
  {
   "cell_type": "code",
   "execution_count": 3,
   "metadata": {},
   "outputs": [
    {
     "name": "stderr",
     "output_type": "stream",
     "text": [
      "Using Theano backend.\n"
     ]
    }
   ],
   "source": [
    "%matplotlib inline\n",
    "from __future__ import print_function, division\n",
    "import utils; reload(utils)\n",
    "from utils import *"
   ]
  },
  {
   "cell_type": "code",
   "execution_count": 4,
   "metadata": {
    "collapsed": true
   },
   "outputs": [],
   "source": [
    "batch_size=32"
   ]
  },
  {
   "cell_type": "code",
   "execution_count": 5,
   "metadata": {
    "collapsed": true
   },
   "outputs": [],
   "source": [
    "# This is for extracting out the convolutional part of vgg16\n",
    "vgg = Vgg16()\n",
    "model=vgg.model\n",
    "last_conv_idx = [i for i,l in enumerate(model.layers) if type(l) is Convolution2D][-1]\n",
    "conv_layers = model.layers[:last_conv_idx+1]"
   ]
  },
  {
   "cell_type": "code",
   "execution_count": 6,
   "metadata": {
    "collapsed": true
   },
   "outputs": [],
   "source": [
    "conv_model = Sequential(conv_layers)"
   ]
  },
  {
   "cell_type": "code",
   "execution_count": 7,
   "metadata": {},
   "outputs": [
    {
     "name": "stdout",
     "output_type": "stream",
     "text": [
      "Found 1748 images belonging to 24 classes.\n",
      "Found 336 images belonging to 24 classes.\n",
      "Found 1 images belonging to 1 classes.\n"
     ]
    }
   ],
   "source": [
    "# Generate batches for all our data\n",
    "batches = get_batches(path+'train', batch_size=batch_size)\n",
    "val_batches = get_batches(path+'valid', batch_size=batch_size*2, shuffle=False)\n",
    "test_batches = get_batches(path+'test', batch_size=batch_size, shuffle=False)"
   ]
  },
  {
   "cell_type": "code",
   "execution_count": 8,
   "metadata": {},
   "outputs": [
    {
     "name": "stdout",
     "output_type": "stream",
     "text": [
      "Found 1748 images belonging to 24 classes.\n",
      "Found 336 images belonging to 24 classes.\n",
      "Found 1 images belonging to 1 classes.\n"
     ]
    }
   ],
   "source": [
    "(val_classes, trn_classes, val_labels, trn_labels, \n",
    "    val_filenames, filenames, test_filenames) = get_classes(path)"
   ]
  },
  {
   "cell_type": "markdown",
   "metadata": {},
   "source": [
    "# Memory expensive stuff coming up, execute only what's needed."
   ]
  },
  {
   "cell_type": "code",
   "execution_count": 9,
   "metadata": {},
   "outputs": [],
   "source": [
    "# Training data convolutional proccessing results\n",
    "conv_feat = conv_model.predict_generator(batches, batches.nb_sample)\n",
    "save_array(path+'results/conv_feat.dat', conv_feat)"
   ]
  },
  {
   "cell_type": "code",
   "execution_count": 10,
   "metadata": {
    "collapsed": true
   },
   "outputs": [],
   "source": [
    "# Validation data convolutional proccessing results\n",
    "conv_val_feat = conv_model.predict_generator(val_batches, val_batches.nb_sample)\n",
    "save_array(path+'results/conv_val_feat.dat', conv_val_feat)"
   ]
  },
  {
   "cell_type": "code",
   "execution_count": 11,
   "metadata": {
    "collapsed": true
   },
   "outputs": [],
   "source": [
    "# Testing data convolutional proccessing results\n",
    "conv_test_feat = conv_model.predict_generator(test_batches, test_batches.nb_sample)\n",
    "save_array(path+'results/conv_test_feat.dat', conv_test_feat)"
   ]
  },
  {
   "cell_type": "code",
   "execution_count": 12,
   "metadata": {},
   "outputs": [
    {
     "data": {
      "text/plain": [
       "(336, 512, 14, 14)"
      ]
     },
     "execution_count": 12,
     "metadata": {},
     "output_type": "execute_result"
    }
   ],
   "source": [
    "# Do only if really loading is needed\n",
    "conv_feat = load_array(path+'results/conv_feat.dat')\n",
    "conv_val_feat = load_array(path+'results/conv_val_feat.dat')\n",
    "conv_val_feat.shape"
   ]
  },
  {
   "cell_type": "markdown",
   "metadata": {},
   "source": [
    "# Fully connected model ahead"
   ]
  },
  {
   "cell_type": "code",
   "execution_count": 30,
   "metadata": {
    "collapsed": true
   },
   "outputs": [],
   "source": [
    "def get_bn_da_layers(p):\n",
    "    return [\n",
    "        MaxPooling2D(input_shape=conv_layers[-1].output_shape[1:]),\n",
    "        Flatten(),\n",
    "        Dropout(p/3),\n",
    "        Dense(256, activation='relu'),\n",
    "        BatchNormalization(),\n",
    "        Dropout(p/2),\n",
    "        Dense(256, activation='relu'),\n",
    "        BatchNormalization(),\n",
    "        Dropout(p),\n",
    "        Dense(24, activation='softmax')\n",
    "        ]"
   ]
  },
  {
   "cell_type": "code",
   "execution_count": 31,
   "metadata": {
    "collapsed": true
   },
   "outputs": [],
   "source": [
    "p=0.8"
   ]
  },
  {
   "cell_type": "code",
   "execution_count": 32,
   "metadata": {
    "collapsed": true
   },
   "outputs": [],
   "source": [
    "bn_model = Sequential(get_bn_da_layers(p))\n",
    "bn_model.compile(Adam(lr=0.001), loss='categorical_crossentropy', metrics=['accuracy'])"
   ]
  },
  {
   "cell_type": "markdown",
   "metadata": {},
   "source": [
    "# Get augmented training batches\n",
    "Do adjust data multiplication factor below"
   ]
  },
  {
   "cell_type": "code",
   "execution_count": 16,
   "metadata": {},
   "outputs": [
    {
     "name": "stdout",
     "output_type": "stream",
     "text": [
      "Found 1748 images belonging to 24 classes.\n"
     ]
    }
   ],
   "source": [
    "gen_t = image.ImageDataGenerator(rotation_range=15, height_shift_range=0.15, \n",
    "                                 channel_shift_range=20, width_shift_range=0.15)\n",
    "da_batches = get_batches(path+'train', gen_t, batch_size=batch_size, shuffle=False)"
   ]
  },
  {
   "cell_type": "code",
   "execution_count": 17,
   "metadata": {
    "collapsed": true
   },
   "outputs": [],
   "source": [
    "da_conv_feat = conv_model.predict_generator(da_batches, da_batches.nb_sample*4)"
   ]
  },
  {
   "cell_type": "code",
   "execution_count": 18,
   "metadata": {
    "collapsed": true
   },
   "outputs": [],
   "source": [
    "save_array(path+'results/da_conv_feat2.dat', da_conv_feat)"
   ]
  },
  {
   "cell_type": "code",
   "execution_count": null,
   "metadata": {
    "collapsed": true
   },
   "outputs": [],
   "source": [
    "# Do only if needed\n",
    "da_conv_feat = load_array(path+'results/da_conv_feat2.dat')"
   ]
  },
  {
   "cell_type": "code",
   "execution_count": 19,
   "metadata": {},
   "outputs": [],
   "source": [
    "# Try this if it can be fitted into memory\n",
    "da_conv_feat = np.concatenate([da_conv_feat, conv_feat])"
   ]
  },
  {
   "cell_type": "code",
   "execution_count": 20,
   "metadata": {
    "collapsed": true
   },
   "outputs": [],
   "source": [
    "da_trn_labels = np.concatenate([trn_labels]*5)"
   ]
  },
  {
   "cell_type": "markdown",
   "metadata": {},
   "source": [
    "# Lets try fitting to this"
   ]
  },
  {
   "cell_type": "code",
   "execution_count": 22,
   "metadata": {},
   "outputs": [
    {
     "name": "stdout",
     "output_type": "stream",
     "text": [
      "Train on 8740 samples, validate on 336 samples\n",
      "Epoch 1/10\n",
      "8740/8740 [==============================] - 10s - loss: 3.4515 - acc: 0.1554 - val_loss: 2.1684 - val_acc: 0.4911\n",
      "Epoch 2/10\n",
      "8740/8740 [==============================] - 10s - loss: 2.8098 - acc: 0.2238 - val_loss: 2.1259 - val_acc: 0.4940\n",
      "Epoch 3/10\n",
      "8740/8740 [==============================] - 10s - loss: 2.5016 - acc: 0.2870 - val_loss: 2.0800 - val_acc: 0.4821\n",
      "Epoch 4/10\n",
      "8740/8740 [==============================] - 10s - loss: 2.3087 - acc: 0.3347 - val_loss: 2.0458 - val_acc: 0.5298\n",
      "Epoch 5/10\n",
      "8740/8740 [==============================] - 10s - loss: 2.1957 - acc: 0.3632 - val_loss: 2.0169 - val_acc: 0.5417\n",
      "Epoch 6/10\n",
      "8740/8740 [==============================] - 10s - loss: 2.0857 - acc: 0.3970 - val_loss: 1.9750 - val_acc: 0.5804\n",
      "Epoch 7/10\n",
      "8740/8740 [==============================] - 10s - loss: 2.0196 - acc: 0.4207 - val_loss: 2.0153 - val_acc: 0.5119\n",
      "Epoch 8/10\n",
      "8740/8740 [==============================] - 10s - loss: 1.9329 - acc: 0.4462 - val_loss: 2.0256 - val_acc: 0.5298\n",
      "Epoch 9/10\n",
      "8740/8740 [==============================] - 10s - loss: 1.8706 - acc: 0.4585 - val_loss: 2.0306 - val_acc: 0.5446\n",
      "Epoch 10/10\n",
      "8740/8740 [==============================] - 10s - loss: 1.8481 - acc: 0.4653 - val_loss: 2.0645 - val_acc: 0.5506\n"
     ]
    },
    {
     "data": {
      "text/plain": [
       "<keras.callbacks.History at 0x7f3b79f85910>"
      ]
     },
     "execution_count": 22,
     "metadata": {},
     "output_type": "execute_result"
    }
   ],
   "source": [
    "bn_model.fit(da_conv_feat, da_trn_labels, batch_size=batch_size, nb_epoch=10, \n",
    "             validation_data=(conv_val_feat, val_labels))"
   ]
  },
  {
   "cell_type": "code",
   "execution_count": 29,
   "metadata": {
    "collapsed": true
   },
   "outputs": [],
   "source": [
    "bn_model.save_weights(path+'models/da_conv8_1.h5')"
   ]
  },
  {
   "cell_type": "code",
   "execution_count": 33,
   "metadata": {
    "collapsed": true
   },
   "outputs": [],
   "source": [
    "# Do only when weights have been saved already\n",
    "bn_model.load_weights(path+'models/da_conv8_1.h5')"
   ]
  },
  {
   "cell_type": "markdown",
   "metadata": {},
   "source": [
    "# Lets test test test"
   ]
  },
  {
   "cell_type": "code",
   "execution_count": 25,
   "metadata": {},
   "outputs": [
    {
     "name": "stdout",
     "output_type": "stream",
     "text": [
      "Found 1 images belonging to 1 classes.\n"
     ]
    }
   ],
   "source": [
    "test_batches = get_batches(path+'test', batch_size=batch_size, shuffle=False)\n",
    "conv_test_feat = conv_model.predict_generator(test_batches, test_batches.nb_sample)"
   ]
  },
  {
   "cell_type": "code",
   "execution_count": 26,
   "metadata": {
    "collapsed": true
   },
   "outputs": [],
   "source": [
    "preds = bn_model.predict(conv_test_feat, batch_size=batch_size*2)"
   ]
  },
  {
   "cell_type": "code",
   "execution_count": 27,
   "metadata": {},
   "outputs": [
    {
     "data": {
      "text/plain": [
       "array([[ 0.084 ,  0.0064,  0.0169,  0.011 ,  0.0614,  0.0073,  0.0159,  0.0165,  0.0089,  0.0138,\n",
       "         0.0132,  0.0457,  0.0808,  0.0267,  0.0132,  0.0198,  0.0101,  0.1442,  0.2866,  0.0113,\n",
       "         0.007 ,  0.0075,  0.0643,  0.0275]], dtype=float32)"
      ]
     },
     "execution_count": 27,
     "metadata": {},
     "output_type": "execute_result"
    }
   ],
   "source": [
    "preds"
   ]
  },
  {
   "cell_type": "code",
   "execution_count": 20,
   "metadata": {},
   "outputs": [
    {
     "name": "stdout",
     "output_type": "stream",
     "text": [
      "____________________________________________________________________________________________________\n",
      "Layer (type)                     Output Shape          Param #     Connected to                     \n",
      "====================================================================================================\n",
      "lambda_1 (Lambda)                (None, 3, 224, 224)   0           lambda_input_1[0][0]             \n",
      "____________________________________________________________________________________________________\n",
      "zeropadding2d_1 (ZeroPadding2D)  (None, 3, 226, 226)   0           lambda_1[0][0]                   \n",
      "____________________________________________________________________________________________________\n",
      "convolution2d_1 (Convolution2D)  (None, 64, 224, 224)  1792        zeropadding2d_1[1][0]            \n",
      "____________________________________________________________________________________________________\n",
      "zeropadding2d_2 (ZeroPadding2D)  (None, 64, 226, 226)  0           convolution2d_1[1][0]            \n",
      "____________________________________________________________________________________________________\n",
      "convolution2d_2 (Convolution2D)  (None, 64, 224, 224)  36928       zeropadding2d_2[1][0]            \n",
      "____________________________________________________________________________________________________\n",
      "maxpooling2d_1 (MaxPooling2D)    (None, 64, 112, 112)  0           convolution2d_2[1][0]            \n",
      "____________________________________________________________________________________________________\n",
      "zeropadding2d_3 (ZeroPadding2D)  (None, 64, 114, 114)  0           maxpooling2d_1[1][0]             \n",
      "____________________________________________________________________________________________________\n",
      "convolution2d_3 (Convolution2D)  (None, 128, 112, 112) 73856       zeropadding2d_3[1][0]            \n",
      "____________________________________________________________________________________________________\n",
      "zeropadding2d_4 (ZeroPadding2D)  (None, 128, 114, 114) 0           convolution2d_3[1][0]            \n",
      "____________________________________________________________________________________________________\n",
      "convolution2d_4 (Convolution2D)  (None, 128, 112, 112) 147584      zeropadding2d_4[1][0]            \n",
      "____________________________________________________________________________________________________\n",
      "maxpooling2d_2 (MaxPooling2D)    (None, 128, 56, 56)   0           convolution2d_4[1][0]            \n",
      "____________________________________________________________________________________________________\n",
      "zeropadding2d_5 (ZeroPadding2D)  (None, 128, 58, 58)   0           maxpooling2d_2[1][0]             \n",
      "____________________________________________________________________________________________________\n",
      "convolution2d_5 (Convolution2D)  (None, 256, 56, 56)   295168      zeropadding2d_5[1][0]            \n",
      "____________________________________________________________________________________________________\n",
      "zeropadding2d_6 (ZeroPadding2D)  (None, 256, 58, 58)   0           convolution2d_5[1][0]            \n",
      "____________________________________________________________________________________________________\n",
      "convolution2d_6 (Convolution2D)  (None, 256, 56, 56)   590080      zeropadding2d_6[1][0]            \n",
      "____________________________________________________________________________________________________\n",
      "zeropadding2d_7 (ZeroPadding2D)  (None, 256, 58, 58)   0           convolution2d_6[1][0]            \n",
      "____________________________________________________________________________________________________\n",
      "convolution2d_7 (Convolution2D)  (None, 256, 56, 56)   590080      zeropadding2d_7[1][0]            \n",
      "____________________________________________________________________________________________________\n",
      "maxpooling2d_3 (MaxPooling2D)    (None, 256, 28, 28)   0           convolution2d_7[1][0]            \n",
      "____________________________________________________________________________________________________\n",
      "zeropadding2d_8 (ZeroPadding2D)  (None, 256, 30, 30)   0           maxpooling2d_3[1][0]             \n",
      "____________________________________________________________________________________________________\n",
      "convolution2d_8 (Convolution2D)  (None, 512, 28, 28)   1180160     zeropadding2d_8[1][0]            \n",
      "____________________________________________________________________________________________________\n",
      "zeropadding2d_9 (ZeroPadding2D)  (None, 512, 30, 30)   0           convolution2d_8[1][0]            \n",
      "____________________________________________________________________________________________________\n",
      "convolution2d_9 (Convolution2D)  (None, 512, 28, 28)   2359808     zeropadding2d_9[1][0]            \n",
      "____________________________________________________________________________________________________\n",
      "zeropadding2d_10 (ZeroPadding2D) (None, 512, 30, 30)   0           convolution2d_9[1][0]            \n",
      "____________________________________________________________________________________________________\n",
      "convolution2d_10 (Convolution2D) (None, 512, 28, 28)   2359808     zeropadding2d_10[1][0]           \n",
      "____________________________________________________________________________________________________\n",
      "maxpooling2d_4 (MaxPooling2D)    (None, 512, 14, 14)   0           convolution2d_10[1][0]           \n",
      "____________________________________________________________________________________________________\n",
      "zeropadding2d_11 (ZeroPadding2D) (None, 512, 16, 16)   0           maxpooling2d_4[1][0]             \n",
      "____________________________________________________________________________________________________\n",
      "convolution2d_11 (Convolution2D) (None, 512, 14, 14)   2359808     zeropadding2d_11[1][0]           \n",
      "____________________________________________________________________________________________________\n",
      "zeropadding2d_12 (ZeroPadding2D) (None, 512, 16, 16)   0           convolution2d_11[1][0]           \n",
      "____________________________________________________________________________________________________\n",
      "convolution2d_12 (Convolution2D) (None, 512, 14, 14)   2359808     zeropadding2d_12[1][0]           \n",
      "____________________________________________________________________________________________________\n",
      "zeropadding2d_13 (ZeroPadding2D) (None, 512, 16, 16)   0           convolution2d_12[1][0]           \n",
      "____________________________________________________________________________________________________\n",
      "convolution2d_13 (Convolution2D) (None, 512, 14, 14)   2359808     zeropadding2d_13[1][0]           \n",
      "====================================================================================================\n",
      "Total params: 14,714,688\n",
      "Trainable params: 14,714,688\n",
      "Non-trainable params: 0\n",
      "____________________________________________________________________________________________________\n"
     ]
    }
   ],
   "source": [
    "conv_model.summary()"
   ]
  },
  {
   "cell_type": "code",
   "execution_count": 23,
   "metadata": {},
   "outputs": [
    {
     "name": "stdout",
     "output_type": "stream",
     "text": [
      "Train on 8740 samples, validate on 336 samples\n",
      "Epoch 1/9\n",
      "8740/8740 [==============================] - 10s - loss: 1.7679 - acc: 0.4886 - val_loss: 2.0652 - val_acc: 0.5536\n",
      "Epoch 2/9\n",
      "8740/8740 [==============================] - 10s - loss: 1.7326 - acc: 0.5063 - val_loss: 2.1226 - val_acc: 0.5685\n",
      "Epoch 3/9\n",
      "8740/8740 [==============================] - 10s - loss: 1.6944 - acc: 0.5110 - val_loss: 2.1618 - val_acc: 0.5804\n",
      "Epoch 4/9\n",
      "8740/8740 [==============================] - 10s - loss: 1.6516 - acc: 0.5265 - val_loss: 2.2167 - val_acc: 0.5774\n",
      "Epoch 5/9\n",
      "8740/8740 [==============================] - 10s - loss: 1.6201 - acc: 0.5322 - val_loss: 2.2268 - val_acc: 0.5476\n",
      "Epoch 6/9\n",
      "8740/8740 [==============================] - 10s - loss: 1.6070 - acc: 0.5383 - val_loss: 2.2575 - val_acc: 0.5327\n",
      "Epoch 7/9\n",
      "8740/8740 [==============================] - 10s - loss: 1.5819 - acc: 0.5521 - val_loss: 2.3035 - val_acc: 0.5238\n",
      "Epoch 8/9\n",
      "8740/8740 [==============================] - 10s - loss: 1.5592 - acc: 0.5640 - val_loss: 2.2578 - val_acc: 0.5595\n",
      "Epoch 9/9\n",
      "8740/8740 [==============================] - 10s - loss: 1.5292 - acc: 0.5625 - val_loss: 2.3483 - val_acc: 0.5089\n"
     ]
    },
    {
     "data": {
      "text/plain": [
       "<keras.callbacks.History at 0x7f3b9c228750>"
      ]
     },
     "execution_count": 23,
     "metadata": {},
     "output_type": "execute_result"
    }
   ],
   "source": [
    "bn_model.fit(da_conv_feat, da_trn_labels, batch_size=batch_size, nb_epoch=9, \n",
    "             validation_data=(conv_val_feat, val_labels))"
   ]
  },
  {
   "cell_type": "code",
   "execution_count": 24,
   "metadata": {},
   "outputs": [
    {
     "name": "stdout",
     "output_type": "stream",
     "text": [
      "Train on 8740 samples, validate on 336 samples\n",
      "Epoch 1/30\n",
      "8740/8740 [==============================] - 10s - loss: 1.5047 - acc: 0.5762 - val_loss: 2.3508 - val_acc: 0.5060\n",
      "Epoch 2/30\n",
      "8740/8740 [==============================] - 10s - loss: 1.4913 - acc: 0.5757 - val_loss: 2.3816 - val_acc: 0.5298\n",
      "Epoch 3/30\n",
      "8740/8740 [==============================] - 11s - loss: 1.4688 - acc: 0.5872 - val_loss: 2.4250 - val_acc: 0.5089\n",
      "Epoch 4/30\n",
      "8740/8740 [==============================] - 10s - loss: 1.4682 - acc: 0.5814 - val_loss: 2.4604 - val_acc: 0.4940\n",
      "Epoch 5/30\n",
      "8740/8740 [==============================] - 10s - loss: 1.4262 - acc: 0.6022 - val_loss: 2.4239 - val_acc: 0.4911\n",
      "Epoch 6/30\n",
      "8740/8740 [==============================] - 10s - loss: 1.4169 - acc: 0.6023 - val_loss: 2.4430 - val_acc: 0.4940\n",
      "Epoch 7/30\n",
      "8740/8740 [==============================] - 10s - loss: 1.3971 - acc: 0.6065 - val_loss: 2.4555 - val_acc: 0.4643\n",
      "Epoch 8/30\n",
      "8740/8740 [==============================] - 10s - loss: 1.3980 - acc: 0.6053 - val_loss: 2.4834 - val_acc: 0.4286\n",
      "Epoch 9/30\n",
      "8740/8740 [==============================] - 10s - loss: 1.3752 - acc: 0.6157 - val_loss: 2.5114 - val_acc: 0.4464\n",
      "Epoch 10/30\n",
      "8740/8740 [==============================] - 10s - loss: 1.3545 - acc: 0.6197 - val_loss: 2.4856 - val_acc: 0.4732\n",
      "Epoch 11/30\n",
      "8740/8740 [==============================] - 10s - loss: 1.3565 - acc: 0.6213 - val_loss: 2.4910 - val_acc: 0.5030\n",
      "Epoch 12/30\n",
      "8740/8740 [==============================] - 10s - loss: 1.3309 - acc: 0.6227 - val_loss: 2.5141 - val_acc: 0.4732\n",
      "Epoch 13/30\n",
      "8740/8740 [==============================] - 10s - loss: 1.3304 - acc: 0.6335 - val_loss: 2.5170 - val_acc: 0.4613\n",
      "Epoch 14/30\n",
      "8740/8740 [==============================] - 10s - loss: 1.3231 - acc: 0.6301 - val_loss: 2.5939 - val_acc: 0.3839\n",
      "Epoch 15/30\n",
      "8740/8740 [==============================] - 10s - loss: 1.3172 - acc: 0.6328 - val_loss: 2.5762 - val_acc: 0.3929\n",
      "Epoch 16/30\n",
      "8740/8740 [==============================] - 10s - loss: 1.2994 - acc: 0.6470 - val_loss: 2.6473 - val_acc: 0.3631\n",
      "Epoch 17/30\n",
      "8740/8740 [==============================] - 10s - loss: 1.2918 - acc: 0.6332 - val_loss: 2.6035 - val_acc: 0.4167\n",
      "Epoch 18/30\n",
      "8740/8740 [==============================] - 10s - loss: 1.2947 - acc: 0.6416 - val_loss: 2.6005 - val_acc: 0.3631\n",
      "Epoch 19/30\n",
      "8740/8740 [==============================] - 10s - loss: 1.2927 - acc: 0.6391 - val_loss: 2.6311 - val_acc: 0.3690\n",
      "Epoch 20/30\n",
      "8740/8740 [==============================] - 10s - loss: 1.2656 - acc: 0.6484 - val_loss: 2.6323 - val_acc: 0.3869\n",
      "Epoch 21/30\n",
      "8740/8740 [==============================] - 10s - loss: 1.2415 - acc: 0.6534 - val_loss: 2.5825 - val_acc: 0.3958\n",
      "Epoch 22/30\n",
      "8740/8740 [==============================] - 10s - loss: 1.2660 - acc: 0.6501 - val_loss: 2.5913 - val_acc: 0.3423\n",
      "Epoch 23/30\n",
      "8740/8740 [==============================] - 10s - loss: 1.2524 - acc: 0.6559 - val_loss: 2.6073 - val_acc: 0.3423\n",
      "Epoch 24/30\n",
      "8740/8740 [==============================] - 10s - loss: 1.2455 - acc: 0.6489 - val_loss: 2.6462 - val_acc: 0.3274\n",
      "Epoch 25/30\n",
      "8740/8740 [==============================] - 10s - loss: 1.2404 - acc: 0.6546 - val_loss: 2.6563 - val_acc: 0.3571\n",
      "Epoch 26/30\n",
      "8740/8740 [==============================] - 10s - loss: 1.2552 - acc: 0.6500 - val_loss: 2.6720 - val_acc: 0.3125\n",
      "Epoch 27/30\n",
      "8740/8740 [==============================] - 10s - loss: 1.2047 - acc: 0.6638 - val_loss: 2.6791 - val_acc: 0.3839\n",
      "Epoch 28/30\n",
      "8740/8740 [==============================] - 10s - loss: 1.2370 - acc: 0.6597 - val_loss: 2.6391 - val_acc: 0.3631\n",
      "Epoch 29/30\n",
      "8740/8740 [==============================] - 10s - loss: 1.2115 - acc: 0.6619 - val_loss: 2.6437 - val_acc: 0.3958\n",
      "Epoch 30/30\n",
      "8740/8740 [==============================] - 10s - loss: 1.2001 - acc: 0.6632 - val_loss: 2.6289 - val_acc: 0.4137\n"
     ]
    },
    {
     "data": {
      "text/plain": [
       "<keras.callbacks.History at 0x7f3bb0734590>"
      ]
     },
     "execution_count": 24,
     "metadata": {},
     "output_type": "execute_result"
    }
   ],
   "source": [
    "bn_model.fit(da_conv_feat, da_trn_labels, batch_size=batch_size, nb_epoch=30, \n",
    "             validation_data=(conv_val_feat, val_labels))"
   ]
  },
  {
   "cell_type": "code",
   "execution_count": null,
   "metadata": {},
   "outputs": [],
   "source": [
    "bn_model.fit(da_conv_feat, da_trn_labels, batch_size=batch_size, nb_epoch=50, \n",
    "             validation_data=(conv_val_feat, val_labels))"
   ]
  },
  {
   "cell_type": "code",
   "execution_count": null,
   "metadata": {
    "collapsed": true
   },
   "outputs": [],
   "source": []
  }
 ],
 "metadata": {
  "kernelspec": {
   "display_name": "Python [default]",
   "language": "python",
   "name": "python2"
  },
  "language_info": {
   "codemirror_mode": {
    "name": "ipython",
    "version": 2
   },
   "file_extension": ".py",
   "mimetype": "text/x-python",
   "name": "python",
   "nbconvert_exporter": "python",
   "pygments_lexer": "ipython2",
   "version": "2.7.13"
  }
 },
 "nbformat": 4,
 "nbformat_minor": 2
}
